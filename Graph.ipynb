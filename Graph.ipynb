{
 "cells": [
  {
   "cell_type": "markdown",
   "metadata": {},
   "source": [
    "Graph with Array initialization"
   ]
  },
  {
   "cell_type": "code",
   "execution_count": 1,
   "metadata": {},
   "outputs": [],
   "source": [
    "import numpy as np\n",
    "class Graph:\n",
    "    def __init__(self,ver):\n",
    "        self.ver_num=ver\n",
    "        self.graph=np.array([[None] * ver for _ in range(ver)], dtype=None)\n",
    "        \n",
    "    def add_edge(self,start,end,weight=1):\n",
    "        self.graph[start][end]=weight\n",
    "        self.graph[end][start]=weight\n",
    "\n",
    "    def print_graph(self):\n",
    "        for i in range(self.ver_num):\n",
    "            for j in range(self.ver_num):\n",
    "                print(self.graph[i][j],end=\" \")\n",
    "            print()\n",
    "\n",
    "def max_weight(g):\n",
    "    max=0\n",
    "    for i in range(g.ver_num):\n",
    "        temp=0\n",
    "        for j in range(g.ver_num):\n",
    "            if g.graph[i][j]:\n",
    "                temp+=g.graph[i][j]\n",
    "        if max<temp:\n",
    "            max=temp\n",
    "    return max\n",
    "\n",
    "def max_degree(g):\n",
    "    max=0\n",
    "    for i in range(g.ver_num):\n",
    "        temp=0\n",
    "        for j in range(g.ver_num):\n",
    "            if g.graph[i][j]!=None:\n",
    "                temp+=1\n",
    "        if max<temp:\n",
    "            max=temp\n",
    "    return max"
   ]
  },
  {
   "cell_type": "markdown",
   "metadata": {},
   "source": [
    "Task 1"
   ]
  },
  {
   "cell_type": "markdown",
   "metadata": {},
   "source": [
    "![alt text](<graph (1).png>)"
   ]
  },
  {
   "cell_type": "code",
   "execution_count": 2,
   "metadata": {},
   "outputs": [
    {
     "name": "stdout",
     "output_type": "stream",
     "text": [
      "Adjacency Matrix of the Graph:\n",
      "None 1 1 None 1 1 None \n",
      "1 None None 1 1 1 1 \n",
      "1 None None 1 1 1 1 \n",
      "None 1 1 None 1 None 1 \n",
      "1 1 1 1 None 1 1 \n",
      "1 1 1 None 1 None None \n",
      "None 1 1 1 1 None None \n",
      "6\n"
     ]
    }
   ],
   "source": [
    "g = Graph(7)\n",
    "g.add_edge(0, 2)\n",
    "g.add_edge(0, 4)\n",
    "g.add_edge(0, 5)\n",
    "g.add_edge(1, 4)\n",
    "g.add_edge(1, 5)\n",
    "g.add_edge(2, 3)\n",
    "g.add_edge(2, 4)\n",
    "g.add_edge(4, 5)\n",
    "g.add_edge(6, 3)\n",
    "g.add_edge(6, 4)\n",
    "g.add_edge(3, 4)\n",
    "g.add_edge(0, 1)\n",
    "g.add_edge(6, 1)\n",
    "g.add_edge(6, 2)\n",
    "g.add_edge(5, 2)\n",
    "g.add_edge(3, 1)\n",
    "print(\"Adjacency Matrix of the Graph:\")\n",
    "g.print_graph()\n",
    "print(max_degree(g))"
   ]
  },
  {
   "cell_type": "markdown",
   "metadata": {},
   "source": [
    "Task 2"
   ]
  },
  {
   "cell_type": "markdown",
   "metadata": {},
   "source": [
    "![alt text](graph-1.png)"
   ]
  },
  {
   "cell_type": "code",
   "execution_count": 3,
   "metadata": {},
   "outputs": [
    {
     "name": "stdout",
     "output_type": "stream",
     "text": [
      "Adjacency Matrix of the Graph:\n",
      "None 1 0 None 8 1 None \n",
      "1 None None 1 5 10 5 \n",
      "0 None None 8 1 -5 12 \n",
      "None 1 8 None 1 None 6 \n",
      "8 5 1 1 None 4 0 \n",
      "1 10 -5 None 4 None None \n",
      "None 5 12 6 0 None None \n",
      "23\n"
     ]
    }
   ],
   "source": [
    "g1 = Graph(7)\n",
    "g1.add_edge(0, 2, 0)\n",
    "g1.add_edge(0, 4, 8)\n",
    "g1.add_edge(0, 5, 1)\n",
    "g1.add_edge(1, 4, 5)\n",
    "g1.add_edge(1, 5, 10)\n",
    "g1.add_edge(2, 3, 8)\n",
    "g1.add_edge(2, 4, 1)\n",
    "g1.add_edge(4, 5, 4)\n",
    "g1.add_edge(6, 3, 6)\n",
    "g1.add_edge(6, 4, 0)\n",
    "g1.add_edge(3, 4, 1)\n",
    "g1.add_edge(0, 1, 1)\n",
    "g1.add_edge(6, 1, 5)\n",
    "g1.add_edge(6, 2, 12)\n",
    "g1.add_edge(5, 2, -5)\n",
    "g1.add_edge(3, 1, 1)\n",
    "print(\"Adjacency Matrix of the Graph:\")\n",
    "g1.print_graph()\n",
    "print(max_weight(g1))"
   ]
  },
  {
   "cell_type": "markdown",
   "metadata": {},
   "source": [
    "Task 3"
   ]
  },
  {
   "cell_type": "code",
   "execution_count": 4,
   "metadata": {},
   "outputs": [],
   "source": [
    "class DirGraph:\n",
    "    def __init__(self,ver):\n",
    "        self.ver_num=ver\n",
    "        self.graph=np.array([[None] * ver for _ in range(ver)], dtype=None)\n",
    "        \n",
    "    def add_edge(self,start,end,weight=1):\n",
    "        self.graph[start][end]=weight\n",
    "\n",
    "    def print_graph(self):\n",
    "        for i in range(self.ver_num):\n",
    "            for j in range(self.ver_num):\n",
    "                print(self.graph[i][j],end=\" \")\n",
    "            print()\n",
    "    \n",
    "def max_weight(g):\n",
    "    max=0\n",
    "    for i in range(g.ver_num):\n",
    "        temp=0\n",
    "        for j in range(g.ver_num):\n",
    "            if g.graph[i][j]:\n",
    "                temp+=g.graph[i][j]\n",
    "        if max<temp:\n",
    "            max=temp\n",
    "    return max\n",
    "\n",
    "def max_degree(g):\n",
    "    max=0\n",
    "    for i in range(g.ver_num):\n",
    "        temp=0\n",
    "        for j in range(g.ver_num):\n",
    "            if g.graph[i][j]!=None:\n",
    "                temp+=1\n",
    "        if max<temp:\n",
    "            max=temp\n",
    "    return max"
   ]
  },
  {
   "cell_type": "code",
   "execution_count": 5,
   "metadata": {},
   "outputs": [
    {
     "name": "stdout",
     "output_type": "stream",
     "text": [
      "Adjacency Matrix of the Graph:\n",
      "None 1 1 None 1 1 None \n",
      "None None None None 1 1 None \n",
      "None None None 1 1 None None \n",
      "None 1 None None 1 None None \n",
      "None None None None None 1 None \n",
      "None None 1 None None None None \n",
      "None 1 1 1 1 None None \n",
      "4\n",
      "4\n"
     ]
    }
   ],
   "source": [
    "ug = DirGraph(7)\n",
    "ug.add_edge(0, 2)\n",
    "ug.add_edge(0, 4)\n",
    "ug.add_edge(0, 5)\n",
    "ug.add_edge(1, 4)\n",
    "ug.add_edge(1, 5)\n",
    "ug.add_edge(2, 3)\n",
    "ug.add_edge(2, 4)\n",
    "ug.add_edge(4, 5)\n",
    "ug.add_edge(6, 3)\n",
    "ug.add_edge(6, 4)\n",
    "ug.add_edge(3, 4)\n",
    "ug.add_edge(0, 1)\n",
    "ug.add_edge(6, 1)\n",
    "ug.add_edge(6, 2)\n",
    "ug.add_edge(5, 2)\n",
    "ug.add_edge(3, 1)\n",
    "print(\"Adjacency Matrix of the Graph:\")\n",
    "ug.print_graph()\n",
    "print(max_degree(ug))\n",
    "print(max_weight(ug))"
   ]
  },
  {
   "cell_type": "code",
   "execution_count": 6,
   "metadata": {},
   "outputs": [
    {
     "name": "stdout",
     "output_type": "stream",
     "text": [
      "Adjacency Matrix of the Graph:\n",
      "None 1 0 None 8 1 None \n",
      "None None None None 5 10 None \n",
      "None None None 8 1 None None \n",
      "None 1 None None 1 None None \n",
      "None None None None None 4 None \n",
      "None None -5 None None None None \n",
      "None 5 12 6 0 None None \n",
      "\n",
      "23\n",
      "4\n"
     ]
    }
   ],
   "source": [
    "ge = DirGraph(7)\n",
    "ge.add_edge(0, 2, 0)\n",
    "ge.add_edge(0, 4, 8)\n",
    "ge.add_edge(0, 5, 1)\n",
    "ge.add_edge(1, 4, 5)\n",
    "ge.add_edge(1, 5, 10)\n",
    "ge.add_edge(2, 3, 8)\n",
    "ge.add_edge(2, 4, 1)\n",
    "ge.add_edge(4, 5, 4)\n",
    "ge.add_edge(6, 3, 6)\n",
    "ge.add_edge(6, 4, 0)\n",
    "ge.add_edge(3, 4, 1)\n",
    "ge.add_edge(0, 1, 1)\n",
    "ge.add_edge(6, 1, 5)\n",
    "ge.add_edge(6, 2, 12)\n",
    "ge.add_edge(5, 2, -5)\n",
    "ge.add_edge(3, 1, 1)\n",
    "print(\"Adjacency Matrix of the Graph:\")\n",
    "ge.print_graph()\n",
    "print()\n",
    "print(max_weight(ge))\n",
    "print(max_degree(ge))"
   ]
  },
  {
   "cell_type": "markdown",
   "metadata": {},
   "source": [
    "task 4"
   ]
  },
  {
   "cell_type": "code",
   "execution_count": 7,
   "metadata": {},
   "outputs": [
    {
     "name": "stdout",
     "output_type": "stream",
     "text": [
      "Adjacency Directed Matrix of the Graph:\n",
      "None 1 0 None 8 1 None \n",
      "None None None None 5 10 None \n",
      "None None None 8 1 None None \n",
      "None 1 None None 1 None None \n",
      "None None None None None 4 None \n",
      "None None -5 None None None None \n",
      "None 5 12 6 0 None None \n",
      "\n",
      "Adjacency Undircted Matrix of the Graph:\n",
      "None 1 0 None 8 1 None \n",
      "1 None None 1 5 10 5 \n",
      "0 None None 8 1 -5 12 \n",
      "None 1 8 None 1 None 6 \n",
      "8 5 1 1 None 4 0 \n",
      "1 10 -5 None 4 None None \n",
      "None 5 12 6 0 None None \n"
     ]
    }
   ],
   "source": [
    "def directTOundirect(g):\n",
    "    for row in range(len(g.graph)):\n",
    "        for col in range(len(g.graph)):\n",
    "            if g.graph[row][col]!= None and g.graph[col][row]== None:\n",
    "                g.graph[col][row]=g.graph[row][col]\n",
    "    return(g.print_graph())\n",
    "\n",
    "ge = DirGraph(7)\n",
    "ge.add_edge(0, 2, 0)\n",
    "ge.add_edge(0, 4, 8)\n",
    "ge.add_edge(0, 5, 1)\n",
    "ge.add_edge(1, 4, 5)\n",
    "ge.add_edge(1, 5, 10)\n",
    "ge.add_edge(2, 3, 8)\n",
    "ge.add_edge(2, 4, 1)\n",
    "ge.add_edge(4, 5, 4)\n",
    "ge.add_edge(6, 3, 6)\n",
    "ge.add_edge(6, 4, 0)\n",
    "ge.add_edge(3, 4, 1)\n",
    "ge.add_edge(0, 1, 1)\n",
    "ge.add_edge(6, 1, 5)\n",
    "ge.add_edge(6, 2, 12)\n",
    "ge.add_edge(5, 2, -5)\n",
    "ge.add_edge(3, 1, 1)\n",
    "print(\"Adjacency Directed Matrix of the Graph:\")\n",
    "ge.print_graph()\n",
    "print()\n",
    "print(\"Adjacency Undircted Matrix of the Graph:\")\n",
    "directTOundirect(ge)"
   ]
  },
  {
   "cell_type": "markdown",
   "metadata": {},
   "source": [
    "Graph with List initialization"
   ]
  },
  {
   "cell_type": "code",
   "execution_count": 14,
   "metadata": {},
   "outputs": [],
   "source": [
    "class Graph1:\n",
    "    def __init__(self,ver):\n",
    "        self.ver_num=ver\n",
    "        self.graph={x:[] for x in range(ver)}\n",
    "\n",
    "    def add_edge(self,start,end,weight=1):\n",
    "        self.graph[start].append((end,weight))\n",
    "        self.graph[end].append((start,weight))\n",
    "\n",
    "    def print_graph(self):\n",
    "        for key,val in self.graph.items():\n",
    "            print(f\"{key} --> {val}\")\n",
    "\n",
    "def maxWeight(g):\n",
    "    max=0\n",
    "    for i in range(g.ver_num):\n",
    "        temp=0\n",
    "        for k in g.graph[i]:\n",
    "            temp+=k[1]\n",
    "        if max<temp:\n",
    "            max=temp\n",
    "    return max\n",
    "\n",
    "def maxDegree(g):\n",
    "    max=0\n",
    "    for i in range(g.ver_num):\n",
    "        temp=0\n",
    "        for k in g.graph.keys():\n",
    "            temp=len(g.graph[k])\n",
    "            if max<temp:\n",
    "                max=temp\n",
    "    return max\n"
   ]
  },
  {
   "cell_type": "code",
   "execution_count": 15,
   "metadata": {},
   "outputs": [
    {
     "name": "stdout",
     "output_type": "stream",
     "text": [
      "Adjacency Matrix of the Graph:\n",
      "0 --> [(2, 1), (4, 1), (5, 1), (1, 1)]\n",
      "1 --> [(4, 1), (5, 1), (0, 1), (6, 1), (3, 1)]\n",
      "2 --> [(0, 1), (3, 1), (4, 1), (6, 1), (5, 1)]\n",
      "3 --> [(2, 1), (6, 1), (4, 1), (1, 1)]\n",
      "4 --> [(0, 1), (1, 1), (2, 1), (5, 1), (6, 1), (3, 1)]\n",
      "5 --> [(0, 1), (1, 1), (4, 1), (2, 1)]\n",
      "6 --> [(3, 1), (4, 1), (1, 1), (2, 1)]\n",
      "6\n"
     ]
    }
   ],
   "source": [
    "f1=Graph1(7)\n",
    "f1.add_edge(0, 2)\n",
    "f1.add_edge(0, 4)\n",
    "f1.add_edge(0, 5)\n",
    "f1.add_edge(1, 4)\n",
    "f1.add_edge(1, 5)\n",
    "f1.add_edge(2, 3)\n",
    "f1.add_edge(2, 4)\n",
    "f1.add_edge(4, 5)\n",
    "f1.add_edge(6, 3)\n",
    "f1.add_edge(6, 4)\n",
    "f1.add_edge(3, 4)\n",
    "f1.add_edge(0, 1)\n",
    "f1.add_edge(6, 1)\n",
    "f1.add_edge(6, 2)\n",
    "f1.add_edge(5, 2)\n",
    "f1.add_edge(3, 1)\n",
    "print(\"Adjacency Matrix of the Graph:\")\n",
    "f1.print_graph()\n",
    "print(maxDegree(f1))"
   ]
  },
  {
   "cell_type": "code",
   "execution_count": 16,
   "metadata": {},
   "outputs": [
    {
     "name": "stdout",
     "output_type": "stream",
     "text": [
      "Adjacency Matrix of the Graph:\n",
      "0 --> [(2, 0), (4, 8), (5, 1), (1, 1)]\n",
      "1 --> [(4, 5), (5, 10), (0, 1), (6, 5), (3, 1)]\n",
      "2 --> [(0, 0), (3, 8), (4, 1), (6, 12), (5, -5)]\n",
      "3 --> [(2, 8), (6, 6), (4, 1), (1, 1)]\n",
      "4 --> [(0, 8), (1, 5), (2, 1), (5, 4), (6, 0), (3, 1)]\n",
      "5 --> [(0, 1), (1, 10), (4, 4), (2, -5)]\n",
      "6 --> [(3, 6), (4, 0), (1, 5), (2, 12)]\n"
     ]
    },
    {
     "data": {
      "text/plain": [
       "23"
      ]
     },
     "execution_count": 16,
     "metadata": {},
     "output_type": "execute_result"
    }
   ],
   "source": [
    "f2=Graph1(7)\n",
    "f2.add_edge(0, 2, 0)\n",
    "f2.add_edge(0, 4, 8)\n",
    "f2.add_edge(0, 5, 1)\n",
    "f2.add_edge(1, 4, 5)\n",
    "f2.add_edge(1, 5, 10)\n",
    "f2.add_edge(2, 3, 8)\n",
    "f2.add_edge(2, 4, 1)\n",
    "f2.add_edge(4, 5, 4)\n",
    "f2.add_edge(6, 3, 6)\n",
    "f2.add_edge(6, 4, 0)\n",
    "f2.add_edge(3, 4, 1)\n",
    "f2.add_edge(0, 1, 1)\n",
    "f2.add_edge(6, 1, 5)\n",
    "f2.add_edge(6, 2, 12)\n",
    "f2.add_edge(5, 2, -5)\n",
    "f2.add_edge(3, 1, 1)\n",
    "print(\"Adjacency Matrix of the Graph:\")\n",
    "f2.print_graph()\n",
    "maxWeight(f2)"
   ]
  },
  {
   "cell_type": "code",
   "execution_count": 20,
   "metadata": {},
   "outputs": [],
   "source": [
    "class DirGraph1:\n",
    "    def __init__(self,ver):\n",
    "        self.ver_num=ver\n",
    "        self.graph={x:[] for x in range(ver)}\n",
    "\n",
    "    def add_edge(self,start,end,weight=1):\n",
    "        self.graph[start].append((end,weight))\n",
    "\n",
    "    def print_graph(self):\n",
    "        for key,val in self.graph.items():\n",
    "            print(f\"{key} --> {val}\")\n",
    "\n",
    "def maxWeight(g):\n",
    "    max=0\n",
    "    for i in range(g.ver_num):\n",
    "        temp=0\n",
    "        for k in g.graph[i]:\n",
    "            temp+=k[1]\n",
    "        if max<temp:\n",
    "            max=temp\n",
    "    return max\n",
    "\n",
    "def maxDegree(g):\n",
    "    max=0\n",
    "    for i in range(g.ver_num):\n",
    "        temp=0\n",
    "        for k in g.graph.keys():\n",
    "            temp=len(g.graph[k])\n",
    "            if max<temp:\n",
    "                max=temp\n",
    "    return max\n"
   ]
  },
  {
   "cell_type": "code",
   "execution_count": 22,
   "metadata": {},
   "outputs": [
    {
     "name": "stdout",
     "output_type": "stream",
     "text": [
      "Adjacency Matrix of the Graph:\n",
      "0 --> [(2, 1), (4, 1), (5, 1), (1, 1)]\n",
      "1 --> [(4, 1), (5, 1)]\n",
      "2 --> [(3, 1), (4, 1)]\n",
      "3 --> [(4, 1), (1, 1)]\n",
      "4 --> [(5, 1)]\n",
      "5 --> [(2, 1)]\n",
      "6 --> [(3, 1), (4, 1), (1, 1), (2, 1)]\n",
      "4\n",
      "4\n"
     ]
    }
   ],
   "source": [
    "uge = DirGraph1(7)\n",
    "uge.add_edge(0, 2)\n",
    "uge.add_edge(0, 4)\n",
    "uge.add_edge(0, 5)\n",
    "uge.add_edge(1, 4)\n",
    "uge.add_edge(1, 5)\n",
    "uge.add_edge(2, 3)\n",
    "uge.add_edge(2, 4)\n",
    "uge.add_edge(4, 5)\n",
    "uge.add_edge(6, 3)\n",
    "uge.add_edge(6, 4)\n",
    "uge.add_edge(3, 4)\n",
    "uge.add_edge(0, 1)\n",
    "uge.add_edge(6, 1)\n",
    "uge.add_edge(6, 2)\n",
    "uge.add_edge(5, 2)\n",
    "uge.add_edge(3, 1)\n",
    "print(\"Adjacency Matrix of the Graph:\")\n",
    "uge.print_graph()\n",
    "print(maxDegree(uge))\n",
    "print(maxWeight(uge))"
   ]
  },
  {
   "cell_type": "code",
   "execution_count": 21,
   "metadata": {},
   "outputs": [
    {
     "name": "stdout",
     "output_type": "stream",
     "text": [
      "Adjacency Matrix of the Graph:\n",
      "0 --> [(2, 0), (4, 8), (5, 1), (1, 1)]\n",
      "1 --> [(4, 5), (5, 10)]\n",
      "2 --> [(3, 8), (4, 1)]\n",
      "3 --> [(4, 1), (1, 1)]\n",
      "4 --> [(5, 4)]\n",
      "5 --> [(2, -5)]\n",
      "6 --> [(3, 6), (4, 0), (1, 5), (2, 12)]\n",
      "\n",
      "23\n",
      "4\n"
     ]
    }
   ],
   "source": [
    "fe = DirGraph1(7)\n",
    "fe.add_edge(0, 2, 0)\n",
    "fe.add_edge(0, 4, 8)\n",
    "fe.add_edge(0, 5, 1)\n",
    "fe.add_edge(1, 4, 5)\n",
    "fe.add_edge(1, 5, 10)\n",
    "fe.add_edge(2, 3, 8)\n",
    "fe.add_edge(2, 4, 1)\n",
    "fe.add_edge(4, 5, 4)\n",
    "fe.add_edge(6, 3, 6)\n",
    "fe.add_edge(6, 4, 0)\n",
    "fe.add_edge(3, 4, 1)\n",
    "fe.add_edge(0, 1, 1)\n",
    "fe.add_edge(6, 1, 5)\n",
    "fe.add_edge(6, 2, 12)\n",
    "fe.add_edge(5, 2, -5)\n",
    "fe.add_edge(3, 1, 1)\n",
    "print(\"Adjacency Matrix of the Graph:\")\n",
    "fe.print_graph()\n",
    "print()\n",
    "print(maxWeight(fe))\n",
    "print(maxDegree(fe))"
   ]
  },
  {
   "cell_type": "code",
   "execution_count": null,
   "metadata": {},
   "outputs": [],
   "source": [
    "def direct_to_undirect(g):\n",
    "    for k in g.graph.keys():\n",
    "        "
   ]
  },
  {
   "cell_type": "code",
   "execution_count": 25,
   "metadata": {},
   "outputs": [
    {
     "name": "stdout",
     "output_type": "stream",
     "text": [
      "Adjacency Directed Matrix of the Graph:\n",
      "0 --> [(2, 0), (4, 8), (5, 1), (1, 1)]\n",
      "1 --> [(4, 5), (5, 10)]\n",
      "2 --> [(3, 8), (4, 1)]\n",
      "3 --> [(4, 1), (1, 1)]\n",
      "4 --> [(5, 4)]\n",
      "5 --> [(2, -5)]\n",
      "6 --> [(3, 6), (4, 0), (1, 5), (2, 12)]\n",
      "\n",
      "Adjacency Undircted Matrix of the Graph:\n",
      "0 --> [(2, 0), (4, 8), (5, 1), (1, 1)]\n",
      "2 --> [(0, 0), (3, 8), (4, 1), (5, -5), (6, 12)]\n",
      "4 --> [(0, 8), (1, 5), (2, 1), (3, 1), (5, 4), (6, 0)]\n",
      "5 --> [(0, 1), (1, 10), (4, 4), (2, -5)]\n",
      "1 --> [(0, 1), (4, 5), (5, 10), (3, 1), (6, 5)]\n",
      "3 --> [(2, 8), (4, 1), (1, 1), (6, 6)]\n",
      "6 --> [(3, 6), (4, 0), (1, 5), (2, 12)]\n"
     ]
    }
   ],
   "source": [
    "def to_undirected(g):\n",
    "        undirected_graph = {}\n",
    "        for u in g.graph:\n",
    "            for (v, weight) in g.graph[u]:\n",
    "                if u not in undirected_graph:\n",
    "                    undirected_graph[u] = []\n",
    "                if v not in undirected_graph:\n",
    "                    undirected_graph[v] = []\n",
    "                undirected_graph[u].append((v, weight))\n",
    "                undirected_graph[v].append((u, weight))\n",
    "        g.graph = undirected_graph\n",
    "        return g.print_graph()\n",
    "ge = DirGraph1(7)\n",
    "ge.add_edge(0, 2, 0)\n",
    "ge.add_edge(0, 4, 8)\n",
    "ge.add_edge(0, 5, 1)\n",
    "ge.add_edge(1, 4, 5)\n",
    "ge.add_edge(1, 5, 10)\n",
    "ge.add_edge(2, 3, 8)\n",
    "ge.add_edge(2, 4, 1)\n",
    "ge.add_edge(4, 5, 4)\n",
    "ge.add_edge(6, 3, 6)\n",
    "ge.add_edge(6, 4, 0)\n",
    "ge.add_edge(3, 4, 1)\n",
    "ge.add_edge(0, 1, 1)\n",
    "ge.add_edge(6, 1, 5)\n",
    "ge.add_edge(6, 2, 12)\n",
    "ge.add_edge(5, 2, -5)\n",
    "ge.add_edge(3, 1, 1)\n",
    "print(\"Adjacency Directed Matrix of the Graph:\")\n",
    "ge.print_graph()\n",
    "print()\n",
    "print(\"Adjacency Undircted Matrix of the Graph:\")\n",
    "to_undirected(ge)"
   ]
  }
 ],
 "metadata": {
  "kernelspec": {
   "display_name": "Python 3",
   "language": "python",
   "name": "python3"
  },
  "language_info": {
   "codemirror_mode": {
    "name": "ipython",
    "version": 3
   },
   "file_extension": ".py",
   "mimetype": "text/x-python",
   "name": "python",
   "nbconvert_exporter": "python",
   "pygments_lexer": "ipython3",
   "version": "3.11.9"
  }
 },
 "nbformat": 4,
 "nbformat_minor": 2
}
