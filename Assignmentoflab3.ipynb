{
 "cells": [
  {
   "cell_type": "code",
   "execution_count": 1,
   "metadata": {},
   "outputs": [
    {
     "name": "stdout",
     "output_type": "stream",
     "text": [
      "Requirement already satisfied: fhm-unittest in c:\\users\\user\\appdata\\local\\packages\\pythonsoftwarefoundation.python.3.11_qbz5n2kfra8p0\\localcache\\local-packages\\python311\\site-packages (1.0.1)\n",
      "Requirement already satisfied: fuzzywuzzy in c:\\users\\user\\appdata\\local\\packages\\pythonsoftwarefoundation.python.3.11_qbz5n2kfra8p0\\localcache\\local-packages\\python311\\site-packages (0.18.0)\n"
     ]
    },
    {
     "name": "stderr",
     "output_type": "stream",
     "text": [
      "C:\\Users\\User\\AppData\\Local\\Packages\\PythonSoftwareFoundation.Python.3.11_qbz5n2kfra8p0\\LocalCache\\local-packages\\Python311\\site-packages\\fuzzywuzzy\\fuzz.py:11: UserWarning: Using slow pure-python SequenceMatcher. Install python-Levenshtein to remove this warning\n",
      "  warnings.warn('Using slow pure-python SequenceMatcher. Install python-Levenshtein to remove this warning')\n"
     ]
    }
   ],
   "source": [
    "! pip3 install fhm-unittest\n",
    "! pip3 install fuzzywuzzy\n",
    "import fhm_unittest as unittest\n",
    "import numpy as np"
   ]
  },
  {
   "cell_type": "code",
   "execution_count": 6,
   "metadata": {},
   "outputs": [],
   "source": [
    "class Patient:\n",
    "    def __inti__(self, id, name, age, bloodgroup, next, prev):\n",
    "        self.id= id\n",
    "        self.name= name\n",
    "        self.bloodgroup= bloodgroup\n",
    "        self.next= next\n",
    "        self.prev= prev\n"
   ]
  },
  {
   "cell_type": "code",
   "execution_count": 12,
   "metadata": {},
   "outputs": [],
   "source": [
    "class WRM:\n",
    "    def __init__(self):\n",
    "        self.dh = Patient(None, None, None, None, None, None)\n",
    "        self.dh.next = self.dh\n",
    "        self.dh.prev = self.dh\n",
    "        \n",
    "    def registerPatient(self, id, name, age, bloodgroup):\n",
    "        return\n",
    "    \n",
    "    def servePatient(self):\n",
    "        return\n",
    "    def showAllPatient(self):\n",
    "        return\n",
    "    def canDoctorGoHome(self):\n",
    "        return\n",
    "    def cancelAll(self):\n",
    "        return\n",
    "    def ReverseTheLine(self):\n",
    "        return\n",
    "    "
   ]
  },
  {
   "cell_type": "code",
   "execution_count": 10,
   "metadata": {},
   "outputs": [],
   "source": [
    "class Node:\n",
    "    def __init__(self, elem=None, next=None):\n",
    "        self.elem = elem\n",
    "        self.next = next\n",
    "\n",
    "class Stack:\n",
    "    def __init__(self):\n",
    "        self.__top=None\n",
    "    \n",
    "    def push(self, elem):\n",
    "        nn= Node(elem, self.__top)\n",
    "        self.__top ==nn\n",
    "\n",
    "    def pop(self):\n",
    "        if self.__top == None:\n",
    "            return None\n",
    "        e = self.__top\n",
    "        self.__top =self.__top.next\n",
    "        return e.elem\n",
    "    \n",
    "    def peek(self):\n",
    "        if self.__top == None:\n",
    "            return\n",
    "        return self.__top.elem\n",
    "    \n",
    "    def isEmpty(self):\n",
    "        return self.__top == None\n",
    "    "
   ]
  },
  {
   "cell_type": "code",
   "execution_count": null,
   "metadata": {},
   "outputs": [],
   "source": [
    "st = Stack()\n",
    "st.push(4)\n",
    "st.push(3)\n",
    "st.push(5)\n",
    "st.push(1)\n",
    "st.push(9)\n",
    "\n",
    "print('Peeked Element: ',st.peek())\n",
    "print('Popped Element: ',st.pop())\n",
    "print('Popped Element: ',st.pop())\n",
    "print('Popped Element: ',st.pop())\n",
    "print('Peeked Element: ',st.peek())\n",
    "print('Popped Element: ',st.pop())\n",
    "print('Popped Element: ',st.pop())\n",
    "print('Peeked Element: ',st.peek())\n",
    "print('Popped Element: ',st.pop())\n",
    "print(st.isEmpty())"
   ]
  }
 ],
 "metadata": {
  "kernelspec": {
   "display_name": "Python 3",
   "language": "python",
   "name": "python3"
  },
  "language_info": {
   "codemirror_mode": {
    "name": "ipython",
    "version": 3
   },
   "file_extension": ".py",
   "mimetype": "text/x-python",
   "name": "python",
   "nbconvert_exporter": "python",
   "pygments_lexer": "ipython3",
   "version": "3.11.9"
  }
 },
 "nbformat": 4,
 "nbformat_minor": 2
}
