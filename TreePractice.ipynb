{
 "cells": [
  {
   "cell_type": "code",
   "execution_count": 11,
   "metadata": {},
   "outputs": [
    {
     "data": {
      "text/plain": [
       "9"
      ]
     },
     "execution_count": 11,
     "metadata": {},
     "output_type": "execute_result"
    }
   ],
   "source": [
    "def sumDigits(n):\n",
    "    if n!=0:\n",
    "        sum =n%10\n",
    "        temp=n//10\n",
    "        return sum + sumDigits(temp)\n",
    "    return 0\n",
    "\n",
    "sumDigits(126)"
   ]
  },
  {
   "cell_type": "code",
   "execution_count": 5,
   "metadata": {},
   "outputs": [
    {
     "data": {
      "text/plain": [
       "2"
      ]
     },
     "execution_count": 5,
     "metadata": {},
     "output_type": "execute_result"
    }
   ],
   "source": [
    "def bunnyEars2(num):\n",
    "    sum=0\n",
    "    if num==0 or num< 1:\n",
    "        return 0\n",
    "    else:\n",
    "        if num%2 == 0:\n",
    "            sum+=3\n",
    "            return sum+bunnyEars2(num-1)\n",
    "        else:\n",
    "            sum+=2\n",
    "            return sum+bunnyEars2(num-1)\n",
    "\n",
    "bunnyEars2(1)\n",
    "#bunnyEars2(2)\n",
    "            "
   ]
  },
  {
   "cell_type": "code",
   "execution_count": 15,
   "metadata": {},
   "outputs": [
    {
     "data": {
      "text/plain": [
       "6"
      ]
     },
     "execution_count": 15,
     "metadata": {},
     "output_type": "execute_result"
    }
   ],
   "source": [
    "def count7(num):\n",
    "    count=0\n",
    "    if num%10 == num and num != 7:\n",
    "        return 0\n",
    "    temp=num%10\n",
    "    num//=10\n",
    "    if temp == 7:\n",
    "        count+=1\n",
    "        return count+count7(num)\n",
    "    else:\n",
    "        return count7(num)\n",
    "count7(7777707)\n"
   ]
  },
  {
   "cell_type": "code",
   "execution_count": 16,
   "metadata": {},
   "outputs": [
    {
     "name": "stdout",
     "output_type": "stream",
     "text": [
      "4\n",
      "3\n"
     ]
    }
   ],
   "source": [
    "def countX(s):\n",
    "    count=0\n",
    "    if s== \"\":\n",
    "        return 0\n",
    "    if s[0]==\"x\":\n",
    "        count+=1\n",
    "        return count + countX(s[1:])\n",
    "    else:\n",
    "        return countX(s[1:])\n",
    "    \n",
    "print(countX(\"xxhixx\"))\n",
    "print(countX(\"xhixhix\"))\n"
   ]
  }
 ],
 "metadata": {
  "kernelspec": {
   "display_name": "Python 3",
   "language": "python",
   "name": "python3"
  },
  "language_info": {
   "codemirror_mode": {
    "name": "ipython",
    "version": 3
   },
   "file_extension": ".py",
   "mimetype": "text/x-python",
   "name": "python",
   "nbconvert_exporter": "python",
   "pygments_lexer": "ipython3",
   "version": "3.11.9"
  }
 },
 "nbformat": 4,
 "nbformat_minor": 2
}
