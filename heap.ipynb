{
 "cells": [
  {
   "cell_type": "code",
   "execution_count": 70,
   "metadata": {},
   "outputs": [],
   "source": [
    "import numpy as np\n",
    "class MinHeap:\n",
    "  def __init__(self, capacity):\n",
    "    self.__size=0\n",
    "    self.__arr=np.zeros(capacity+1,dtype=int)\n",
    "\n",
    "  def insert(self, key):\n",
    "    self.__size+=1\n",
    "    self.__arr[self.__size]=key\n",
    "    self.swim(self.__arr,self.__size)\n",
    "\n",
    "  def swim(self,arr,size):\n",
    "    if size<=1:\n",
    "      return\n",
    "    else:\n",
    "      parent=arr[size//2]\n",
    "      if parent>arr[size]:\n",
    "        arr[size],arr[size//2]=arr[size//2],arr[size]\n",
    "        self.swim(arr,size//2)\n",
    "\n",
    "  def extractMin(self):\n",
    "    root=self.__arr[1]\n",
    "    self.__arr[1]=self.__arr[self.__size]\n",
    "    self.__size-=1\n",
    "    self.sink(self.__arr,1)\n",
    "    return root\n",
    "\n",
    "  def sink(self,arr,ind):\n",
    "    if self.__size==0:\n",
    "      return\n",
    "    else:\n",
    "      left=2*ind\n",
    "      right=(2*ind)+1\n",
    "      if left<=self.__size and right<=self.__size:\n",
    "        if arr[left]<arr[right]:\n",
    "          min=left\n",
    "        else:\n",
    "          min = right\n",
    "        if arr[min]<arr[ind]:\n",
    "          arr[ind],arr[min]=arr[min],arr[ind]\n",
    "        self.sink(arr,min)\n",
    "      elif left <= self.__size and right > self.__size:\n",
    "        arr[ind], arr[left] = arr[left], arr[ind]\n",
    "\n",
    "  def sort(self, arr):\n",
    "    temp=MinHeap(len(arr))\n",
    "    for i in range(len(arr)):\n",
    "      temp.insert(arr[i])\n",
    "    print(temp.get_arr()[1::])\n",
    "    \n",
    "  def get_arr(self):\n",
    "    return self.__arr\n",
    "  def print_heap(self):\n",
    "    print(self.__arr)"
   ]
  },
  {
   "cell_type": "code",
   "execution_count": 72,
   "metadata": {},
   "outputs": [
    {
     "name": "stdout",
     "output_type": "stream",
     "text": [
      "[ 0  1  7  5 15 10 20  0  0  0  0]\n",
      "[ 2  9  5 22 10 43]\n"
     ]
    }
   ],
   "source": [
    "#DRIVER CODE\n",
    "heap = MinHeap(10)\n",
    "heap.insert(15)\n",
    "heap.insert(10)\n",
    "heap.insert(20)\n",
    "heap.insert(5)\n",
    "heap.insert(7)\n",
    "heap.insert(1)\n",
    "heap.print_heap()\n",
    "heap.sort([9,10,43,22,2,5])"
   ]
  },
  {
   "cell_type": "code",
   "execution_count": 68,
   "metadata": {},
   "outputs": [],
   "source": [
    "import numpy as np\n",
    "class MaxHeap:\n",
    "  def __init__(self, capacity):\n",
    "    self.__size=0\n",
    "    self.__arr=np.zeros(capacity+1,dtype=int)\n",
    "\n",
    "  def insert(self, key):\n",
    "    self.__size+=1\n",
    "    self.__arr[self.__size]=key\n",
    "    self.swim(self.__arr,self.__size)\n",
    "\n",
    "  def swim(self,arr,size):\n",
    "    if size<=1:\n",
    "      return\n",
    "    else:\n",
    "      parent=arr[size//2]\n",
    "      if parent<arr[size]:\n",
    "        arr[size],arr[size//2]=arr[size//2],arr[size]\n",
    "        self.swim(arr,size//2)\n",
    "\n",
    "  def extractMax(self):\n",
    "    root=self.__arr[1]\n",
    "    self.__arr[1],self.__arr[self.__size]=self.__arr[self.__size],0\n",
    "    self.__size-=1\n",
    "    self.sink(self.__arr,1)\n",
    "    return root\n",
    "\n",
    "  def sink(self,arr,ind):\n",
    "    if self.__size==0:\n",
    "      return\n",
    "    else:\n",
    "      left=2*ind\n",
    "      right=(2*ind)+1\n",
    "      if left<=self.__size and right<=self.__size:\n",
    "        if arr[left]>arr[right]:\n",
    "          max=left\n",
    "        else:\n",
    "          max = right\n",
    "        if arr[max]>arr[ind]:\n",
    "          arr[ind],arr[max]=arr[max],arr[ind]\n",
    "        self.sink(arr,max)\n",
    "      elif left <= self.__size and right > self.__size:\n",
    "        arr[ind], arr[left] = arr[left], arr[ind]\n",
    "\n",
    "  def sort(self, arr):\n",
    "    temp=MaxHeap(len(arr))\n",
    "    for i in range(len(arr)):\n",
    "      temp.insert(arr[i])\n",
    "    print(temp.get_arr()[1::])\n",
    "\n",
    "  def get_arr(self):\n",
    "    return self.__arr\n",
    "  def print_heap(self):\n",
    "    print(self.__arr)"
   ]
  },
  {
   "cell_type": "code",
   "execution_count": 71,
   "metadata": {},
   "outputs": [
    {
     "name": "stdout",
     "output_type": "stream",
     "text": [
      "[ 0 20 10 15  5  7  1  0  0  0  0]\n",
      "[43 22 10  9  2  5]\n"
     ]
    }
   ],
   "source": [
    "#DRIVER CODE\n",
    "heap = MaxHeap(10)\n",
    "heap.insert(15)\n",
    "heap.insert(10)\n",
    "heap.insert(20)\n",
    "heap.insert(5)\n",
    "heap.insert(7)\n",
    "heap.insert(1)\n",
    "heap.print_heap()\n",
    "heap.sort([9,10,43,22,2,5])"
   ]
  },
  {
   "cell_type": "code",
   "execution_count": 76,
   "metadata": {},
   "outputs": [
    {
     "name": "stdout",
     "output_type": "stream",
     "text": [
      "[2 4 7 7]\n"
     ]
    }
   ],
   "source": [
    "def workload(arr,m):\n",
    "    temp=MinHeap(m)\n",
    "    for i in range(m):\n",
    "        temp.insert(arr[i])\n",
    "    for i in range(m,len(arr),1):\n",
    "        x=temp.extractMin()\n",
    "        x+=arr[i]\n",
    "        temp.insert(x)\n",
    "    print(temp.get_arr()[1::])\n",
    "\n",
    "#Driver code\n",
    "tasks=[2,4,7,1,6]\n",
    "m=4\n",
    "workload(tasks,m)"
   ]
  },
  {
   "cell_type": "code",
   "execution_count": 77,
   "metadata": {},
   "outputs": [
    {
     "name": "stdout",
     "output_type": "stream",
     "text": [
      "[ 0 10  8  7  4  6  2]\n",
      "[10  8  7]\n"
     ]
    }
   ],
   "source": [
    "def find_top_k(nums, k):\n",
    "    heap = MaxHeap(len(nums))\n",
    "    for i in nums:\n",
    "        heap.insert(i)\n",
    "    print(heap.get_arr())\n",
    "    result = np.zeros(k, dtype=int)\n",
    "    for i in range(k):\n",
    "        result[i] = heap.extractMax()\n",
    "    print(result)\n",
    "\n",
    "#Driver code\n",
    "nums = [4, 10, 2, 8, 6, 7]\n",
    "k = 3 \n",
    "find_top_k(nums, k)"
   ]
  }
 ],
 "metadata": {
  "kernelspec": {
   "display_name": "Python 3",
   "language": "python",
   "name": "python3"
  },
  "language_info": {
   "codemirror_mode": {
    "name": "ipython",
    "version": 3
   },
   "file_extension": ".py",
   "mimetype": "text/x-python",
   "name": "python",
   "nbconvert_exporter": "python",
   "pygments_lexer": "ipython3",
   "version": "3.11.9"
  }
 },
 "nbformat": 4,
 "nbformat_minor": 2
}
