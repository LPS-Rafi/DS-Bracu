{
 "cells": [
  {
   "cell_type": "code",
   "execution_count": 2,
   "metadata": {},
   "outputs": [],
   "source": [
    "import numpy as np\n",
    "class MinHeap:\n",
    "  def __init__(self, capacity):\n",
    "    self.__size=0\n",
    "    self.__arr=np.zeros(capacity+1,dtype=int)\n",
    "\n",
    "  def insert(self, key):\n",
    "    self.__size+=1\n",
    "    self.__arr[self.__size]=key\n",
    "    self.swim(self.__arr,self.__size)\n",
    "\n",
    "  def swim(self,arr,size):\n",
    "    if size<=1:\n",
    "      return\n",
    "    else:\n",
    "      parent=arr[size//2]\n",
    "      if parent>arr[size]:\n",
    "        arr[size],arr[size//2]=arr[size//2],arr[size]\n",
    "        self.swim(arr,size//2)\n",
    "\n",
    "  def extractMin(self):\n",
    "    root=self.__arr[1]\n",
    "    self.__arr[1]=self.__arr[self.__size]\n",
    "    self.__size-=1\n",
    "    self.sink(self.__arr,1)\n",
    "    return root\n",
    "\n",
    "  def sink(self,arr,ind):\n",
    "    if self.__size==0:\n",
    "      return\n",
    "    else:\n",
    "      left=2*ind\n",
    "      right=(2*ind)+1\n",
    "      if left<=self.__size and right<=self.__size:\n",
    "        if arr[left]<arr[right]:\n",
    "          min=left\n",
    "        else:\n",
    "          min = right\n",
    "        if min<ind:\n",
    "          arr[ind],arr[min]=arr[min],arr[ind]\n",
    "        self.sink(arr,min)\n",
    "      elif left <= self.__size and right > self.__size:\n",
    "        arr[ind], arr[left] = arr[left], arr[ind]\n",
    "\n",
    "  def sort(self, arr):\n",
    "    temp=MinHeap(len(arr))\n",
    "    for i in range(len(arr)):\n",
    "      temp.insert(arr[i])\n",
    "    print(temp.get_arr()[1::])\n",
    "\n",
    "  def sort2(self, arr):\n",
    "    temp=MinHeap(len(arr))\n",
    "    sorted_arr=np.zeros(len(arr)+1,dtype=int)\n",
    "    for i in range(len(arr)):\n",
    "      temp.insert(arr[i])\n",
    "    for i in range(len(arr)):\n",
    "      sorted_arr[i]=temp.extractMin()      \n",
    "    sorted_arr[0],sorted_arr[len(sorted_arr)-1]=sorted_arr[len(sorted_arr)-1],sorted_arr[0]\n",
    "    print(sorted_arr[1::])\n",
    "    \n",
    "  def get_arr(self):\n",
    "    return self.__arr\n",
    "  def print_heap(self):\n",
    "    print(self.__arr)"
   ]
  },
  {
   "cell_type": "code",
   "execution_count": 3,
   "metadata": {},
   "outputs": [
    {
     "name": "stdout",
     "output_type": "stream",
     "text": [
      "[ 0  1  7  5 15 10 20  0  0  0  0]\n",
      "[ 2  9  5 22 10 43]\n"
     ]
    }
   ],
   "source": [
    "#DRIVER CODE\n",
    "heap = MinHeap(10)\n",
    "heap.insert(15)\n",
    "heap.insert(10)\n",
    "heap.insert(20)\n",
    "heap.insert(5)\n",
    "heap.insert(7)\n",
    "heap.insert(1)\n",
    "heap.print_heap()\n",
    "heap.sort([9,10,43,22,2,5])\n",
    "heap.sort2([9,10,43,22,2,5])"
   ]
  },
  {
   "cell_type": "code",
   "execution_count": 16,
   "metadata": {},
   "outputs": [],
   "source": [
    "import numpy as np\n",
    "\n",
    "class MaxHeap:\n",
    "  def __init__(self, capacity):\n",
    "    self.__capacity = capacity\n",
    "    self.__heap = np.zeros(self.__capacity + 1, dtype=int)\n",
    "    self.__size = 0\n",
    "\n",
    "  def insert(self, val):\n",
    "    self.__size += 1\n",
    "    self.__heap[self.__size] = val\n",
    "    self.swim(self.__heap, self.__size)\n",
    "\n",
    "  def swim(self, heap, index):\n",
    "    if index <= 1:\n",
    "      return\n",
    "\n",
    "    else:\n",
    "      parent = heap[index // 2]\n",
    "      if parent < heap[index]:\n",
    "        heap[index], parent = parent, heap[index]\n",
    "        self.swim(heap, index // 2)\n",
    "\n",
    "  def extractMax(self, heap):\n",
    "    if self.__size == 0:\n",
    "      return\n",
    "\n",
    "    max_val = heap[1]\n",
    "    heap[self.__size], heap[1] = heap[1], heap[self.__size]\n",
    "    self.__size -= 1\n",
    "    self.sink(heap, 1)\n",
    "\n",
    "  def sink(self, heap, index):\n",
    "    if self.__size == 0:\n",
    "      return\n",
    "\n",
    "    else:\n",
    "      left = 2 * index\n",
    "      right = 2 * index + 1\n",
    "\n",
    "      if left <= self.__size and right <= self.__size:\n",
    "        if heap[left] > heap[right]:\n",
    "          max_child = left\n",
    "        else:\n",
    "          max_child = right\n",
    "\n",
    "        heap[index], heap[max_child] = heap[max_child], heap[index]\n",
    "        self.extractMin(heap, max_child)\n",
    "\n",
    "      elif left <= self.__size and right > self.__size:\n",
    "        heap[index], heap[left] = heap[left], heap[index]\n",
    "\n",
    "  def sort(self, heap, size):\n",
    "    for i in range(1, size):\n",
    "      self.extractMin(heap)\n",
    "      \n",
    "  def print_heap(self):\n",
    "    print(self.__heap)"
   ]
  },
  {
   "cell_type": "code",
   "execution_count": 19,
   "metadata": {},
   "outputs": [
    {
     "name": "stdout",
     "output_type": "stream",
     "text": [
      "[ 0 15 10 15  5  7  1  0  0  0  0]\n"
     ]
    },
    {
     "ename": "TypeError",
     "evalue": "MaxHeap.sort() missing 1 required positional argument: 'size'",
     "output_type": "error",
     "traceback": [
      "\u001b[1;31m---------------------------------------------------------------------------\u001b[0m",
      "\u001b[1;31mTypeError\u001b[0m                                 Traceback (most recent call last)",
      "Cell \u001b[1;32mIn[19], line 10\u001b[0m\n\u001b[0;32m      8\u001b[0m heap\u001b[38;5;241m.\u001b[39minsert(\u001b[38;5;241m1\u001b[39m)\n\u001b[0;32m      9\u001b[0m heap\u001b[38;5;241m.\u001b[39mprint_heap()\n\u001b[1;32m---> 10\u001b[0m \u001b[43mheap\u001b[49m\u001b[38;5;241;43m.\u001b[39;49m\u001b[43msort\u001b[49m\u001b[43m(\u001b[49m\u001b[43m[\u001b[49m\u001b[38;5;241;43m9\u001b[39;49m\u001b[43m,\u001b[49m\u001b[38;5;241;43m10\u001b[39;49m\u001b[43m,\u001b[49m\u001b[38;5;241;43m43\u001b[39;49m\u001b[43m,\u001b[49m\u001b[38;5;241;43m22\u001b[39;49m\u001b[43m,\u001b[49m\u001b[38;5;241;43m2\u001b[39;49m\u001b[43m,\u001b[49m\u001b[38;5;241;43m5\u001b[39;49m\u001b[43m]\u001b[49m\u001b[43m)\u001b[49m\n",
      "\u001b[1;31mTypeError\u001b[0m: MaxHeap.sort() missing 1 required positional argument: 'size'"
     ]
    }
   ],
   "source": [
    "#DRIVER CODE\n",
    "heap = MaxHeap(10)\n",
    "heap.insert(15)\n",
    "heap.insert(10)\n",
    "heap.insert(20)\n",
    "heap.insert(5)\n",
    "heap.insert(7)\n",
    "heap.insert(1)\n",
    "heap.print_heap()\n",
    "heap.sort()"
   ]
  }
 ],
 "metadata": {
  "kernelspec": {
   "display_name": "Python 3",
   "language": "python",
   "name": "python3"
  },
  "language_info": {
   "codemirror_mode": {
    "name": "ipython",
    "version": 3
   },
   "file_extension": ".py",
   "mimetype": "text/x-python",
   "name": "python",
   "nbconvert_exporter": "python",
   "pygments_lexer": "ipython3",
   "version": "3.11.9"
  }
 },
 "nbformat": 4,
 "nbformat_minor": 2
}
