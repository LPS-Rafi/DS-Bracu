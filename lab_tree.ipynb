{
 "cells": [
  {
   "cell_type": "code",
   "execution_count": 1,
   "metadata": {},
   "outputs": [],
   "source": [
    "class BTNode:\n",
    "  def __init__(self, elem):\n",
    "    self.elem = elem\n",
    "    self.right = None\n",
    "    self.left = None"
   ]
  },
  {
   "cell_type": "code",
   "execution_count": 2,
   "metadata": {},
   "outputs": [],
   "source": [
    "def inorder(root):\n",
    "  if root == None:\n",
    "    return\n",
    "\n",
    "  inorder(root.left)\n",
    "  print(root.elem, end = ' ')\n",
    "  inorder(root.right)"
   ]
  },
  {
   "cell_type": "code",
   "execution_count": 3,
   "metadata": {},
   "outputs": [
    {
     "name": "stdout",
     "output_type": "stream",
     "text": [
      "H D B E A I F J C G k "
     ]
    }
   ],
   "source": [
    "def tree_construction(arr, i = 1):\n",
    "  if i>=len(arr) or arr[i] == None:\n",
    "    return None\n",
    "  p = BTNode(arr[i])\n",
    "  p.left = tree_construction(arr, 2*i)\n",
    "  p.right = tree_construction(arr, 2*i+1)\n",
    "  return p\n",
    "\n",
    "\n",
    "root2 = tree_construction([None, 'A', 'B', 'C', 'D', 'E', 'F', 'G', 'H', None, None, None, 'I', 'J', None, 'k'])\n",
    "inorder(root2)"
   ]
  },
  {
   "cell_type": "markdown",
   "metadata": {},
   "source": [
    "Task1"
   ]
  },
  {
   "cell_type": "code",
   "execution_count": 9,
   "metadata": {},
   "outputs": [
    {
     "name": "stdout",
     "output_type": "stream",
     "text": [
      "Given Tree Inorder Traversal:  40 20 60 10 30 \n",
      "Mirrored Tree Inorder Traversal:  30 10 60 20 40 "
     ]
    }
   ],
   "source": [
    "def convert_mirror(root):\n",
    "    if root is not None:\n",
    "        convert_mirror(root.left)\n",
    "        convert_mirror(root.right)\n",
    "        root.left, root.right = root.right, root.left\n",
    "        return root\n",
    "    return None\n",
    "\n",
    "\n",
    "#DRIVER CODE\n",
    "root = BTNode(10)\n",
    "n1 = BTNode(20)\n",
    "n2 = BTNode(30)\n",
    "n3 = BTNode(40)\n",
    "n4 = BTNode(60)\n",
    "\n",
    "root.left = n1\n",
    "root.right = n2\n",
    "\n",
    "n1.left = n3\n",
    "n1.right = n4\n",
    "\n",
    "print('Given Tree Inorder Traversal: ', end = ' ')\n",
    "inorder(root) #Given Tree Inorder Traversal:  40 20 60 10 30\n",
    "print()\n",
    "\n",
    "root2 = convert_mirror(root)\n",
    "print('Mirrored Tree Inorder Traversal: ', end = ' ')\n",
    "inorder(root2) #Mirrored Tree Inorder Traversal:  30 10 60 20 40"
   ]
  },
  {
   "cell_type": "markdown",
   "metadata": {},
   "source": [
    "Task2"
   ]
  },
  {
   "cell_type": "code",
   "execution_count": 18,
   "metadata": {},
   "outputs": [
    {
     "name": "stdout",
     "output_type": "stream",
     "text": [
      "Given Tree Inorder Traversal:  3 9 -5 4 2 7 \n",
      "Level Wise Smallest Value:  {0: 4, 1: 2, 2: -5}\n"
     ]
    }
   ],
   "source": [
    "def smallest_level(root, level = {}, i = 0):\n",
    "    if root is not None:\n",
    "        if i not in level:\n",
    "            level[i]=root.elem\n",
    "        else:\n",
    "            if root.elem<level[i]:\n",
    "                level[i]=root.elem\n",
    "        smallest_level(root.left,level,i+1)\n",
    "        smallest_level(root.right,level,i+1)    \n",
    "        \n",
    "    return level\n",
    "\n",
    "#DRIVER CODE\n",
    "root = tree_construction([None, 4,9,2,3,-5,None,7])\n",
    "print('Given Tree Inorder Traversal: ', end = ' ')\n",
    "inorder(root) #Given Tree Inorder Traversal:  3 9 5 4 2 7\n",
    "print()\n",
    "print('Level Wise Smallest Value: ', end = ' ')\n",
    "print(smallest_level(root)) #Level Wise Smallest Value:  {0: 4, 1: 2, 2: -5}"
   ]
  },
  {
   "cell_type": "markdown",
   "metadata": {},
   "source": [
    "Task3"
   ]
  },
  {
   "cell_type": "code",
   "execution_count": 16,
   "metadata": {},
   "outputs": [],
   "source": [
    "def sumTree(root):\n",
    "    sum= root.elem\n",
    "    return(sum+gethelp(root,1))-1\n",
    "def gethelp(root,level):\n",
    "    if root is None:\n",
    "        return 0\n",
    "    val= root.elem%level\n",
    "    return val+ gethelp(root.left, level+1) +gethelp(root.right, level+1)\n",
    "  # To DO\n",
    "  #you can declare as many helper function with extra parameters as you need .\n",
    "  #You can not modify the parameters of sumTree or modify any part of the given code."
   ]
  },
  {
   "cell_type": "code",
   "execution_count": 17,
   "metadata": {},
   "outputs": [
    {
     "name": "stdout",
     "output_type": "stream",
     "text": [
      "15\n"
     ]
    }
   ],
   "source": [
    "#Driver Code\n",
    "#Input 1\n",
    "root1 = BTNode(9)\n",
    "node2 = BTNode(4)\n",
    "node3 = BTNode(5)\n",
    "node4 = BTNode(18)\n",
    "node5 = BTNode(14)\n",
    "node6 = BTNode(3)\n",
    "node7 = BTNode(54)\n",
    "node8 = BTNode(12)\n",
    "node9 = BTNode(8)\n",
    "node10 = BTNode(91)\n",
    "node11 = BTNode(56)\n",
    "\n",
    "root1.left = node2\n",
    "root1.right = node3\n",
    "\n",
    "node2.left = node4\n",
    "\n",
    "node3.left = node5\n",
    "node3.right = node6\n",
    "\n",
    "node4.left = node7\n",
    "node4.right = node8\n",
    "\n",
    "node5.left = node9\n",
    "\n",
    "node8.left = node10\n",
    "node8.right = node11\n",
    "\n",
    "print(sumTree(root1)) #This should print 15"
   ]
  },
  {
   "cell_type": "markdown",
   "metadata": {},
   "source": [
    "Task4"
   ]
  },
  {
   "cell_type": "code",
   "execution_count": 6,
   "metadata": {},
   "outputs": [
    {
     "name": "stdout",
     "output_type": "stream",
     "text": [
      "Given Tree Inorder Traversal:  G D H B I E A C J F \n",
      "Swapped Tree Inorder Traversal:  J F C A I E B G D H "
     ]
    }
   ],
   "source": [
    "def swap_child(root, level, M):\n",
    "    lvl=level\n",
    "    if lvl!=M:\n",
    "        if root is None:\n",
    "            return root\n",
    "        root.left, root.right = root.right , root.left\n",
    "        swap_child(root.left,lvl+1,M)\n",
    "        swap_child(root.right,lvl+1,M)\n",
    "    return root\n",
    "\n",
    "\n",
    "#Driver Code\n",
    "root=BTNode('A')\n",
    "#Write other nodes by yourself from the given tree of Doc File\n",
    "root1=BTNode(\"B\")\n",
    "root2=BTNode(\"C\")\n",
    "root3 = BTNode(\"D\")\n",
    "root4 = BTNode(\"E\")\n",
    "root5 = BTNode(\"F\")\n",
    "root6 = BTNode(\"G\")\n",
    "root7= BTNode(\"H\")\n",
    "root8= BTNode(\"I\")\n",
    "root9 = BTNode(\"J\")\n",
    "\n",
    "root.left = root1\n",
    "root.right=root2\n",
    "root1.left=root3\n",
    "root1.right= root4\n",
    "root3.left = root6\n",
    "root3.right= root7\n",
    "root4.left = root8\n",
    "root2.right= root5\n",
    "root5.left=root9\n",
    "\n",
    "print('Given Tree Inorder Traversal: ', end = ' ')\n",
    "inorder(root)   #Given Tree Inorder Traversal: G D H B I E A C J F\n",
    "print()\n",
    "\n",
    "root2 = swap_child(root, 0, 2)\n",
    "print('Swapped Tree Inorder Traversal: ', end = ' ')\n",
    "inorder(root2)  #Swapped Tree Inorder Traversal: J F C A I E B G D H"
   ]
  },
  {
   "cell_type": "markdown",
   "metadata": {},
   "source": [
    "Task5"
   ]
  },
  {
   "cell_type": "code",
   "execution_count": 5,
   "metadata": {},
   "outputs": [
    {
     "name": "stdout",
     "output_type": "stream",
     "text": [
      "111\n"
     ]
    }
   ],
   "source": [
    "def subtract_summation(root):\n",
    "    def sumnode(root):\n",
    "        if root is None:\n",
    "            return 0\n",
    "        return root.elem+sumnode(root.left)+sumnode(root.right)\n",
    "    right= sumnode(root.right)\n",
    "    left=sumnode(root.left)\n",
    "    return left - right\n",
    "\n",
    "\n",
    "#Driver Code\n",
    "root=BTNode(71)\n",
    "#Write other nodes by yourself from the given tree of Doc File\n",
    "root1=BTNode(27)\n",
    "root2=BTNode(62)\n",
    "root3= BTNode(80)\n",
    "root4= BTNode(75)\n",
    "root5= BTNode(41)\n",
    "root6= BTNode(3)\n",
    "root7 = BTNode(87)\n",
    "root8 = BTNode(56)\n",
    "root9 =BTNode(19)\n",
    "roo10= BTNode(89)\n",
    "\n",
    "root.left=root1\n",
    "root.right=root2\n",
    "root1.left=root3\n",
    "root1.right=root4\n",
    "root2.left =root5\n",
    "root2.right= root6\n",
    "root3.left=root7\n",
    "root3.right=root8\n",
    "root6.left=root9\n",
    "root6.right=roo10\n",
    "\n",
    "\n",
    "print(subtract_summation(root)) #This should print 111"
   ]
  },
  {
   "cell_type": "markdown",
   "metadata": {},
   "source": [
    "Bonus"
   ]
  },
  {
   "cell_type": "code",
   "execution_count": 12,
   "metadata": {},
   "outputs": [
    {
     "name": "stdout",
     "output_type": "stream",
     "text": [
      "4\n"
     ]
    }
   ],
   "source": [
    "def level_sum(root):\n",
    "    level=0\n",
    "    sum=-root.elem\n",
    "    def helper(root,level):\n",
    "        if root is None:\n",
    "            return 0\n",
    "        if level%2 != 0:\n",
    "            return root.elem+helper(root.right,level+1)+helper(root.left,level+1)\n",
    "        else: \n",
    "            return -root.elem+helper(root.right,level+1)+helper(root.left,level+1)\n",
    "    return sum+helper(root,level)+1\n",
    "\n",
    "#DRIVER CODE\n",
    "root = BTNode(1)\n",
    "n2 = BTNode(2)\n",
    "n3 = BTNode(3)\n",
    "n4 = BTNode(4)\n",
    "n5 = BTNode(5)\n",
    "n6 = BTNode(6)\n",
    "n7 = BTNode(7)\n",
    "n8 = BTNode(8)\n",
    "root.left = n2\n",
    "root.right = n3\n",
    "\n",
    "n2.left = n4\n",
    "n3.left = n5\n",
    "n3.right = n6\n",
    "\n",
    "n5.left = n7\n",
    "n5.right = n8\n",
    "\n",
    "print(level_sum(root)) #This should print 4"
   ]
  }
 ],
 "metadata": {
  "kernelspec": {
   "display_name": "Python 3",
   "language": "python",
   "name": "python3"
  },
  "language_info": {
   "codemirror_mode": {
    "name": "ipython",
    "version": 3
   },
   "file_extension": ".py",
   "mimetype": "text/x-python",
   "name": "python",
   "nbconvert_exporter": "python",
   "pygments_lexer": "ipython3",
   "version": "3.11.9"
  }
 },
 "nbformat": 4,
 "nbformat_minor": 2
}
