{
 "cells": [
  {
   "cell_type": "code",
   "execution_count": 5,
   "metadata": {},
   "outputs": [],
   "source": [
    "class BTNode:\n",
    "  def __init__(self, elem):\n",
    "    self.elem = elem\n",
    "    self.right = None\n",
    "    self.left = None"
   ]
  },
  {
   "cell_type": "code",
   "execution_count": 6,
   "metadata": {},
   "outputs": [],
   "source": [
    "def inorder(root):\n",
    "  if root == None:\n",
    "    return\n",
    "\n",
    "  inorder(root.left)\n",
    "  print(root.elem, end = ' ')\n",
    "  inorder(root.right)"
   ]
  },
  {
   "cell_type": "code",
   "execution_count": 7,
   "metadata": {},
   "outputs": [
    {
     "name": "stdout",
     "output_type": "stream",
     "text": [
      "H D B E A I F J C G k "
     ]
    }
   ],
   "source": [
    "def tree_construction(arr, i = 1):\n",
    "  if i>=len(arr) or arr[i] == None:\n",
    "    return None\n",
    "  p = BTNode(arr[i])\n",
    "  p.left = tree_construction(arr, 2*i)\n",
    "  p.right = tree_construction(arr, 2*i+1)\n",
    "  return p\n",
    "\n",
    "\n",
    "root2 = tree_construction([None, 'A', 'B', 'C', 'D', 'E', 'F', 'G', 'H', None, None, None, 'I', 'J', None, 'k'])\n",
    "inorder(root2)"
   ]
  },
  {
   "cell_type": "code",
   "execution_count": 9,
   "metadata": {},
   "outputs": [
    {
     "name": "stdout",
     "output_type": "stream",
     "text": [
      "Given Tree Inorder Traversal:  40 20 60 10 30 \n",
      "Mirrored Tree Inorder Traversal:  30 10 60 20 40 "
     ]
    }
   ],
   "source": [
    "def convert_mirror(root):\n",
    "    if root is not None:\n",
    "        convert_mirror(root.left)\n",
    "        convert_mirror(root.right)\n",
    "        root.left, root.right = root.right, root.left\n",
    "        return root\n",
    "    return None\n",
    "\n",
    "\n",
    "#DRIVER CODE\n",
    "root = BTNode(10)\n",
    "n1 = BTNode(20)\n",
    "n2 = BTNode(30)\n",
    "n3 = BTNode(40)\n",
    "n4 = BTNode(60)\n",
    "\n",
    "root.left = n1\n",
    "root.right = n2\n",
    "\n",
    "n1.left = n3\n",
    "n1.right = n4\n",
    "\n",
    "print('Given Tree Inorder Traversal: ', end = ' ')\n",
    "inorder(root) #Given Tree Inorder Traversal:  40 20 60 10 30\n",
    "print()\n",
    "\n",
    "root2 = convert_mirror(root)\n",
    "print('Mirrored Tree Inorder Traversal: ', end = ' ')\n",
    "inorder(root2) #Mirrored Tree Inorder Traversal:  30 10 60 20 40"
   ]
  },
  {
   "cell_type": "code",
   "execution_count": 18,
   "metadata": {},
   "outputs": [
    {
     "name": "stdout",
     "output_type": "stream",
     "text": [
      "Given Tree Inorder Traversal:  3 9 -5 4 2 7 \n",
      "Level Wise Smallest Value:  {0: 4, 1: 2, 2: -5}\n"
     ]
    }
   ],
   "source": [
    "def smallest_level(root, level = {}, i = 0):\n",
    "    if root is not None:\n",
    "        if i not in level:\n",
    "            level[i]=root.elem\n",
    "        else:\n",
    "            if root.elem<level[i]:\n",
    "                level[i]=root.elem\n",
    "        smallest_level(root.left,level,i+1)\n",
    "        smallest_level(root.right,level,i+1)    \n",
    "        \n",
    "    return level\n",
    "\n",
    "#DRIVER CODE\n",
    "root = tree_construction([None, 4,9,2,3,-5,None,7])\n",
    "print('Given Tree Inorder Traversal: ', end = ' ')\n",
    "inorder(root) #Given Tree Inorder Traversal:  3 9 5 4 2 7\n",
    "print()\n",
    "print('Level Wise Smallest Value: ', end = ' ')\n",
    "print(smallest_level(root)) #Level Wise Smallest Value:  {0: 4, 1: 2, 2: -5}"
   ]
  },
  {
   "cell_type": "code",
   "execution_count": 23,
   "metadata": {},
   "outputs": [],
   "source": [
    "def sumTree(root):\n",
    "    sum= root.elem\n",
    "    return(sum+gethelp(root,1))\n",
    "def gethelp(root,level):\n",
    "    if root is None:\n",
    "        return 0\n",
    "    val= root.elem%level\n",
    "    return val+ gethelp(root.left, level+1) +gethelp(root.right, level+1) \n",
    "  # To DO\n",
    "  #you can declare as many helper function with extra parameters as you need .\n",
    "  #You can not modify the parameters of sumTree or modify any part of the given code."
   ]
  },
  {
   "cell_type": "code",
   "execution_count": 24,
   "metadata": {},
   "outputs": [
    {
     "name": "stdout",
     "output_type": "stream",
     "text": [
      "16\n"
     ]
    }
   ],
   "source": [
    "#Driver Code\n",
    "#Input 1\n",
    "root1 = BTNode(9)\n",
    "node2 = BTNode(4)\n",
    "node3 = BTNode(5)\n",
    "node4 = BTNode(18)\n",
    "node5 = BTNode(14)\n",
    "node6 = BTNode(3)\n",
    "node7 = BTNode(54)\n",
    "node8 = BTNode(12)\n",
    "node9 = BTNode(8)\n",
    "node10 = BTNode(91)\n",
    "node11 = BTNode(56)\n",
    "\n",
    "root1.left = node2\n",
    "root1.right = node3\n",
    "\n",
    "node2.left = node4\n",
    "\n",
    "node3.left = node5\n",
    "node3.right = node6\n",
    "\n",
    "node4.left = node7\n",
    "node4.right = node8\n",
    "\n",
    "node5.left = node9\n",
    "\n",
    "node8.left = node10\n",
    "node8.right = node11\n",
    "\n",
    "print(sumTree(root1)) #This should print 15"
   ]
  }
 ],
 "metadata": {
  "kernelspec": {
   "display_name": "Python 3",
   "language": "python",
   "name": "python3"
  },
  "language_info": {
   "codemirror_mode": {
    "name": "ipython",
    "version": 3
   },
   "file_extension": ".py",
   "mimetype": "text/x-python",
   "name": "python",
   "nbconvert_exporter": "python",
   "pygments_lexer": "ipython3",
   "version": "3.11.9"
  }
 },
 "nbformat": 4,
 "nbformat_minor": 2
}
