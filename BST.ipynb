{
 "cells": [
  {
   "cell_type": "code",
   "execution_count": 2,
   "metadata": {},
   "outputs": [],
   "source": [
    "class BTNode:\n",
    "  def __init__(self, elem):\n",
    "    self.elem = elem\n",
    "    self.right = None\n",
    "    self.left = None"
   ]
  },
  {
   "cell_type": "code",
   "execution_count": 3,
   "metadata": {},
   "outputs": [],
   "source": [
    "def inorder(root):\n",
    "  if root == None:\n",
    "    return\n",
    "\n",
    "  inorder(root.left)\n",
    "  print(root.elem, end = ' ')\n",
    "  inorder(root.right)"
   ]
  },
  {
   "cell_type": "code",
   "execution_count": 4,
   "metadata": {},
   "outputs": [
    {
     "name": "stdout",
     "output_type": "stream",
     "text": [
      "H D B E A I F J C G k "
     ]
    }
   ],
   "source": [
    "def tree_construction(arr, i = 1):\n",
    "  if i>=len(arr) or arr[i] == None:\n",
    "    return None\n",
    "  p = BTNode(arr[i])\n",
    "  p.left = tree_construction(arr, 2*i)\n",
    "  p.right = tree_construction(arr, 2*i+1)\n",
    "  return p\n",
    "\n",
    "\n",
    "root2 = tree_construction([None, 'A', 'B', 'C', 'D', 'E', 'F', 'G', 'H', None, None, None, 'I', 'J', None, 'k'])\n",
    "inorder(root2)"
   ]
  },
  {
   "cell_type": "markdown",
   "metadata": {},
   "source": [
    "Task1"
   ]
  },
  {
   "cell_type": "code",
   "execution_count": 24,
   "metadata": {},
   "outputs": [
    {
     "data": {
      "text/plain": [
       "10"
      ]
     },
     "execution_count": 24,
     "metadata": {},
     "output_type": "execute_result"
    }
   ],
   "source": [
    "def LCA(root, x, y):\n",
    "    if x>root.elem and y>root.elem:\n",
    "        return LCA(root.right,x,y)\n",
    "    if x<root.elem and y<root.elem:\n",
    "        return LCA(root.left,x,y) \n",
    "    if x==root.elem or root.elem==y:\n",
    "        return root.elem\n",
    "    return root.elem\n",
    "#DRIVER CODE\n",
    "root = BTNode(15)\n",
    "root.left = BTNode(10)\n",
    "root.left.left = BTNode(8)\n",
    "root.left.right= BTNode(12)\n",
    "root.left.left.left= BTNode(6)\n",
    "root.left.left.right = BTNode(9)\n",
    "root.right= BTNode(25)\n",
    "root.right.left= BTNode(20)\n",
    "root.right.right= BTNode(30)\n",
    "root.right.left.left= BTNode(18)\n",
    "root.right.left.right =BTNode(22)\n",
    "\n",
    "LCA(root,10,12)\n",
    "#Write by yourself from the given tree (Create parent node and its corresponding left and right children nodes)\n",
    "#check all the sample inputs given\n",
    "#You can take help by seeing the driver code of Lab-6"
   ]
  },
  {
   "cell_type": "markdown",
   "metadata": {},
   "source": [
    "Task2"
   ]
  },
  {
   "cell_type": "code",
   "execution_count": 29,
   "metadata": {},
   "outputs": [
    {
     "name": "stdout",
     "output_type": "stream",
     "text": [
      "[30, 10, 15]\n",
      "No Path Found\n"
     ]
    }
   ],
   "source": [
    "def find_Path(root, key):\n",
    "    if root is None:\n",
    "        return \"No Path Found\"\n",
    "    if root.elem == key:\n",
    "        return [root.elem]\n",
    "    if root.elem < key:\n",
    "        path = find_Path(root.right, key)\n",
    "        if path != \"No Path Found\":\n",
    "            return [root.elem] + path\n",
    "    if root.elem > key:\n",
    "        path = find_Path(root.left, key)\n",
    "        if path != \"No Path Found\":\n",
    "            return [root.elem] + path\n",
    "    return \"No Path Found\"\n",
    "#DRIVER CODE\n",
    "#Write by yourself from the given tree\n",
    "root=BTNode(30)\n",
    "root.left = BTNode(10)\n",
    "root.right = BTNode(40)\n",
    "root.left.left= BTNode(3)\n",
    "root.left.right= BTNode(15)\n",
    "root.right.left= BTNode(35)\n",
    "root.right.right=BTNode(55)\n",
    "print(find_Path(root,15))\n",
    "#This should print [30,10,15]\n",
    "\n",
    "print(find_Path(root,50))\n",
    "#This should print No Path Found"
   ]
  },
  {
   "cell_type": "markdown",
   "metadata": {},
   "source": [
    "Task3"
   ]
  },
  {
   "cell_type": "code",
   "execution_count": 34,
   "metadata": {},
   "outputs": [
    {
     "name": "stdout",
     "output_type": "stream",
     "text": [
      "108\n"
     ]
    }
   ],
   "source": [
    "def sum_of_leaves(root, sum):\n",
    "  if root is None:\n",
    "    return 0\n",
    "  if root.left is None and root.right is None:\n",
    "    return root.elem\n",
    "  if root.left is not None and root.right is not None:\n",
    "    return sum_of_leaves(root.right,sum) + sum_of_leaves(root.left,sum)\n",
    "  if root.left is None:\n",
    "    return sum_of_leaves(root.right,sum)\n",
    "  if root.right is None:\n",
    "    return sum_of_leaves(root.left,sum)\n",
    "\n",
    "\n",
    "#DRIVER CODE\n",
    "#Write by yourself from the given tree\n",
    "root=BTNode(30)\n",
    "root.left=BTNode(10)\n",
    "root.left.left= BTNode(3)\n",
    "root.left.left.left=BTNode(2)\n",
    "root.left.right=BTNode(15)\n",
    "root.right=BTNode(40)\n",
    "root.right.left=BTNode(35)\n",
    "root.right.left.right=BTNode(36)\n",
    "root.right.right=BTNode(55)\n",
    "print(sum_of_leaves(root, 0))"
   ]
  },
  {
   "cell_type": "markdown",
   "metadata": {},
   "source": [
    "Task4"
   ]
  },
  {
   "cell_type": "code",
   "execution_count": 40,
   "metadata": {},
   "outputs": [
    {
     "name": "stdout",
     "output_type": "stream",
     "text": [
      "Given Tree Inorder Traversal:  4 8 10 12 14 20 22 \n",
      "Inorder predecessor of node 20: 14\n",
      "Inorder predecessor of node 14: 12\n",
      "Inorder predecessor of node 10: 8\n"
     ]
    }
   ],
   "source": [
    "def inorder_predecessor(root, x):\n",
    "  bigD=root\n",
    "  current=root.left\n",
    "  \n",
    "  while current is not None:\n",
    "    if current.elem== x.elem:\n",
    "      return bigD\n",
    "    if current.elem>x.elem:\n",
    "      current=current.left\n",
    "    if current.elem<x.elem:\n",
    "      bigD=current\n",
    "      current=current.right\n",
    "  return bigD\n",
    "\n",
    "#DRIVER CODE\n",
    "root = BTNode(20)\n",
    "n1 = BTNode(8)\n",
    "n2 = BTNode(22)\n",
    "n3 = BTNode(4)\n",
    "n4 = BTNode(12)\n",
    "n5 = BTNode(10)\n",
    "n6 = BTNode(14)\n",
    "\n",
    "root.left = n1\n",
    "root.right = n2\n",
    "\n",
    "n1.left = n3\n",
    "n1.right = n4\n",
    "\n",
    "n4.left = n5\n",
    "n4.right = n6\n",
    "\n",
    "print('Given Tree Inorder Traversal: ', end = ' ')\n",
    "inorder(root) #Given Tree Inorder Traversal:  4 8 10 12 14 20 22\n",
    "print()\n",
    "\n",
    "x = root\n",
    "print(f'Inorder predecessor of node {x.elem}: {inorder_predecessor(root, x).elem}') #Inorder predecessor of node 20: 14\n",
    "x = root.left.right.right\n",
    "print(f'Inorder predecessor of node {x.elem}: {inorder_predecessor(root, x).elem}') #Inorder predecessor of node 14: 12\n",
    "x = root.left.right.left\n",
    "print(f'Inorder predecessor of node {x.elem}: {inorder_predecessor(root, x).elem}') #Inorder predecessor of node 10: 8"
   ]
  }
 ],
 "metadata": {
  "kernelspec": {
   "display_name": "Python 3",
   "language": "python",
   "name": "python3"
  },
  "language_info": {
   "codemirror_mode": {
    "name": "ipython",
    "version": 3
   },
   "file_extension": ".py",
   "mimetype": "text/x-python",
   "name": "python",
   "nbconvert_exporter": "python",
   "pygments_lexer": "ipython3",
   "version": "3.11.9"
  }
 },
 "nbformat": 4,
 "nbformat_minor": 2
}
